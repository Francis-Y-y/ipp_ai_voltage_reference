{
 "cells": [
  {
   "cell_type": "code",
   "execution_count": 105,
   "id": "686f8f54",
   "metadata": {},
   "outputs": [],
   "source": [
    "from sklearn import linear_model as lm\n",
    "import torch\n",
    "pd.set_option('display.max_columns', None)\n",
    "from sklearn import datasets\n",
    "import matplotlib.pyplot as plt\n",
    "import tensorflow as tf\n",
    "import torch.nn as nn\n",
    "import keras\n",
    "from sklearn.preprocessing import StandardScaler\n",
    "from sklearn.model_selection import train_test_split\n",
    "from tensorflow.python.client import device_lib \n",
    "import seaborn as sns\n",
    "from sklearn.svm import LinearSVR\n",
    "import matplotlib.pyplot as plt\n",
    "from sklearn.neighbors import KNeighborsRegressor\n",
    "from sklearn.linear_model import LinearRegression\n",
    "from sklearn.linear_model import Ridge\n",
    "from sklearn.linear_model import Lasso\n",
    "from sklearn.tree import DecisionTreeRegressor\n",
    "from sklearn.svm import SVR\n",
    "from sklearn.metrics import r2_score\n",
    "from sklearn.linear_model import Ridge\n",
    "from sklearn.tree import DecisionTreeRegressor\n",
    "from sklearn.preprocessing import PolynomialFeatures\n",
    "import numpy as np\n",
    "from sklearn.naive_bayes import MultinomialNB     # 从sklean.naive_bayes里导入朴素贝叶斯模型\n",
    "from sklearn.metrics import classification_report\n",
    "from sklearn.naive_bayes import GaussianNB\n",
    "import tensorflow as tf\n",
    "#print('Tensorflow Version: {}'.format(tf.__version__))\n",
    "import pandas as pd\n",
    "import os\n",
    "os.environ[\"TF_CPP_MIN_LOG_LEVEL\"]='2'# 只显示 Error\n",
    "import warnings\n",
    "warnings.filterwarnings(\"ignore\")\n",
    "from random import seed\n",
    "import numpy as np\n",
    "from sklearn.model_selection import KFold\n",
    "from sklearn.utils import shuffle"
   ]
  },
  {
   "cell_type": "code",
   "execution_count": 106,
   "id": "dead5b43",
   "metadata": {},
   "outputs": [],
   "source": [
    "def rmse(predicted, actual):\n",
    "    return np.sqrt(np.mean((actual - predicted)**2))"
   ]
  },
  {
   "cell_type": "markdown",
   "id": "fad32ae8",
   "metadata": {},
   "source": [
    "# 1. 数据及其分布"
   ]
  },
  {
   "cell_type": "code",
   "execution_count": 116,
   "id": "d460404c",
   "metadata": {},
   "outputs": [
    {
     "data": {
      "text/html": [
       "<div>\n",
       "<style scoped>\n",
       "    .dataframe tbody tr th:only-of-type {\n",
       "        vertical-align: middle;\n",
       "    }\n",
       "\n",
       "    .dataframe tbody tr th {\n",
       "        vertical-align: top;\n",
       "    }\n",
       "\n",
       "    .dataframe thead th {\n",
       "        text-align: right;\n",
       "    }\n",
       "</style>\n",
       "<table border=\"1\" class=\"dataframe\">\n",
       "  <thead>\n",
       "    <tr style=\"text-align: right;\">\n",
       "      <th></th>\n",
       "      <th>no.</th>\n",
       "      <th>v+</th>\n",
       "      <th>v-</th>\n",
       "      <th>vv</th>\n",
       "      <th>R1</th>\n",
       "      <th>R2</th>\n",
       "      <th>R3</th>\n",
       "      <th>I3(nA)</th>\n",
       "      <th>R2/R1</th>\n",
       "      <th>R3/R1</th>\n",
       "      <th>R3/R2</th>\n",
       "      <th>vv/[(v+)-(v-)]</th>\n",
       "      <th>polarity</th>\n",
       "    </tr>\n",
       "  </thead>\n",
       "  <tbody>\n",
       "    <tr>\n",
       "      <th>0</th>\n",
       "      <td>1</td>\n",
       "      <td>0.395032</td>\n",
       "      <td>0.393743</td>\n",
       "      <td>0.378640</td>\n",
       "      <td>21572414.74</td>\n",
       "      <td>21572414.74</td>\n",
       "      <td>1920840.568</td>\n",
       "      <td>63.867004</td>\n",
       "      <td>1.0</td>\n",
       "      <td>0.089042</td>\n",
       "      <td>0.089042</td>\n",
       "      <td>293.616407</td>\n",
       "      <td>0.077872</td>\n",
       "    </tr>\n",
       "    <tr>\n",
       "      <th>1</th>\n",
       "      <td>2</td>\n",
       "      <td>0.382076</td>\n",
       "      <td>0.378545</td>\n",
       "      <td>0.393967</td>\n",
       "      <td>29037202.25</td>\n",
       "      <td>29037202.25</td>\n",
       "      <td>2553017.942</td>\n",
       "      <td>46.184081</td>\n",
       "      <td>1.0</td>\n",
       "      <td>0.087922</td>\n",
       "      <td>0.087922</td>\n",
       "      <td>111.562104</td>\n",
       "      <td>0.099350</td>\n",
       "    </tr>\n",
       "    <tr>\n",
       "      <th>2</th>\n",
       "      <td>3</td>\n",
       "      <td>0.361179</td>\n",
       "      <td>0.357530</td>\n",
       "      <td>0.417032</td>\n",
       "      <td>24870699.23</td>\n",
       "      <td>24870699.23</td>\n",
       "      <td>2187843.247</td>\n",
       "      <td>49.910705</td>\n",
       "      <td>1.0</td>\n",
       "      <td>0.087969</td>\n",
       "      <td>0.087969</td>\n",
       "      <td>114.276679</td>\n",
       "      <td>0.108427</td>\n",
       "    </tr>\n",
       "    <tr>\n",
       "      <th>3</th>\n",
       "      <td>4</td>\n",
       "      <td>0.377965</td>\n",
       "      <td>0.374717</td>\n",
       "      <td>0.400799</td>\n",
       "      <td>27812575.93</td>\n",
       "      <td>27812575.93</td>\n",
       "      <td>2485072.157</td>\n",
       "      <td>45.546246</td>\n",
       "      <td>1.0</td>\n",
       "      <td>0.089351</td>\n",
       "      <td>0.089351</td>\n",
       "      <td>123.402273</td>\n",
       "      <td>0.153662</td>\n",
       "    </tr>\n",
       "    <tr>\n",
       "      <th>4</th>\n",
       "      <td>5</td>\n",
       "      <td>0.386587</td>\n",
       "      <td>0.384328</td>\n",
       "      <td>0.387534</td>\n",
       "      <td>23690912.29</td>\n",
       "      <td>23690912.29</td>\n",
       "      <td>2093395.335</td>\n",
       "      <td>56.853948</td>\n",
       "      <td>1.0</td>\n",
       "      <td>0.088363</td>\n",
       "      <td>0.088363</td>\n",
       "      <td>171.560867</td>\n",
       "      <td>0.117408</td>\n",
       "    </tr>\n",
       "  </tbody>\n",
       "</table>\n",
       "</div>"
      ],
      "text/plain": [
       "   no.       v+        v-        vv           R1           R2           R3   \\\n",
       "0    1  0.395032  0.393743  0.378640  21572414.74  21572414.74  1920840.568   \n",
       "1    2  0.382076  0.378545  0.393967  29037202.25  29037202.25  2553017.942   \n",
       "2    3  0.361179  0.357530  0.417032  24870699.23  24870699.23  2187843.247   \n",
       "3    4  0.377965  0.374717  0.400799  27812575.93  27812575.93  2485072.157   \n",
       "4    5  0.386587  0.384328  0.387534  23690912.29  23690912.29  2093395.335   \n",
       "\n",
       "      I3(nA)  R2/R1     R3/R1     R3/R2  vv/[(v+)-(v-)]  polarity  \n",
       "0  63.867004    1.0  0.089042  0.089042      293.616407  0.077872  \n",
       "1  46.184081    1.0  0.087922  0.087922      111.562104  0.099350  \n",
       "2  49.910705    1.0  0.087969  0.087969      114.276679  0.108427  \n",
       "3  45.546246    1.0  0.089351  0.089351      123.402273  0.153662  \n",
       "4  56.853948    1.0  0.088363  0.088363      171.560867  0.117408  "
      ]
     },
     "execution_count": 116,
     "metadata": {},
     "output_type": "execute_result"
    }
   ],
   "source": [
    "data = pd.read_csv(\"data.csv\")\n",
    "shuffled_data = shuffle(data).reset_index(drop=True)\n",
    "data.head()"
   ]
  },
  {
   "cell_type": "markdown",
   "id": "59f97735",
   "metadata": {},
   "source": [
    "### 1.1:  v+, v-, vv"
   ]
  },
  {
   "cell_type": "code",
   "execution_count": 79,
   "id": "8b90d37d",
   "metadata": {},
   "outputs": [
    {
     "data": {
      "text/plain": [
       "<AxesSubplot:xlabel='v+ ', ylabel='Density'>"
      ]
     },
     "execution_count": 79,
     "metadata": {},
     "output_type": "execute_result"
    },
    {
     "data": {
      "image/png": "[encoded data removed]",
      "text/plain": [
       "<Figure size 432x288 with 1 Axes>"
      ]
     },
     "metadata": {
      "needs_background": "light"
     },
     "output_type": "display_data"
    }
   ],
   "source": [
    "sns.kdeplot(data.iloc[:,1], shade=True)\n",
    "sns.kdeplot(data.iloc[:,2], shade=True)\n",
    "sns.kdeplot(data.iloc[:,3], shade=True)"
   ]
  },
  {
   "cell_type": "markdown",
   "id": "68ad0218",
   "metadata": {},
   "source": [
    "### 1.2: R1, R2, 完全重合"
   ]
  },
  {
   "cell_type": "code",
   "execution_count": 81,
   "id": "76027fce",
   "metadata": {},
   "outputs": [
    {
     "data": {
      "text/plain": [
       "<AxesSubplot:xlabel='R1 ', ylabel='Density'>"
      ]
     },
     "execution_count": 81,
     "metadata": {},
     "output_type": "execute_result"
    },
    {
     "data": {
      "image/png": "[encoded data removed]",
      "text/plain": [
       "<Figure size 432x288 with 1 Axes>"
      ]
     },
     "metadata": {
      "needs_background": "light"
     },
     "output_type": "display_data"
    }
   ],
   "source": [
    "sns.kdeplot(data.iloc[:,4], shade=True)\n",
    "sns.kdeplot(data.iloc[:,5], shade=True)"
   ]
  },
  {
   "cell_type": "markdown",
   "id": "866c01c5",
   "metadata": {},
   "source": [
    "### 1.3: R3"
   ]
  },
  {
   "cell_type": "code",
   "execution_count": 82,
   "id": "9be6f4e7",
   "metadata": {},
   "outputs": [
    {
     "data": {
      "text/plain": [
       "<AxesSubplot:xlabel='R3 ', ylabel='Density'>"
      ]
     },
     "execution_count": 82,
     "metadata": {},
     "output_type": "execute_result"
    },
    {
     "data": {
      "image/png": "[encoded data removed]",
      "text/plain": [
       "<Figure size 432x288 with 1 Axes>"
      ]
     },
     "metadata": {
      "needs_background": "light"
     },
     "output_type": "display_data"
    }
   ],
   "source": [
    "sns.kdeplot(data.iloc[:,6], shade=True)"
   ]
  },
  {
   "cell_type": "markdown",
   "id": "f34d99d9",
   "metadata": {},
   "source": [
    "### 1.4：I3(nA)"
   ]
  },
  {
   "cell_type": "code",
   "execution_count": 107,
   "id": "c1022e25",
   "metadata": {},
   "outputs": [
    {
     "data": {
      "text/plain": [
       "<AxesSubplot:xlabel='I3(nA)', ylabel='Density'>"
      ]
     },
     "execution_count": 107,
     "metadata": {},
     "output_type": "execute_result"
    },
    {
     "data": {
      "image/png": "[encoded data removed]",
      "text/plain": [
       "<Figure size 432x288 with 1 Axes>"
      ]
     },
     "metadata": {
      "needs_background": "light"
     },
     "output_type": "display_data"
    }
   ],
   "source": [
    "sns.kdeplot(data.iloc[:,7], shade=True)"
   ]
  },
  {
   "cell_type": "markdown",
   "id": "36b99087",
   "metadata": {},
   "source": [
    "### 1.5: 我们应该调整该数据嘛？（R2/R1)"
   ]
  },
  {
   "cell_type": "code",
   "execution_count": 108,
   "id": "e939c1e6",
   "metadata": {},
   "outputs": [
    {
     "data": {
      "text/plain": [
       "<AxesSubplot:xlabel='R2/R1', ylabel='Density'>"
      ]
     },
     "execution_count": 108,
     "metadata": {},
     "output_type": "execute_result"
    },
    {
     "data": {
      "image/png": "[encoded data removed]",
      "text/plain": [
       "<Figure size 432x288 with 1 Axes>"
      ]
     },
     "metadata": {
      "needs_background": "light"
     },
     "output_type": "display_data"
    }
   ],
   "source": [
    "sns.kdeplot(data.iloc[:,8], shade=True)"
   ]
  },
  {
   "cell_type": "markdown",
   "id": "9b0043de",
   "metadata": {},
   "source": [
    "### 1.6 这是R3/R1 和 R2/R1, 完全重合"
   ]
  },
  {
   "cell_type": "code",
   "execution_count": 111,
   "id": "bc2cf58f",
   "metadata": {},
   "outputs": [
    {
     "data": {
      "text/plain": [
       "<AxesSubplot:xlabel='R3/R1', ylabel='Density'>"
      ]
     },
     "execution_count": 111,
     "metadata": {},
     "output_type": "execute_result"
    },
    {
     "data": {
      "image/png": "[encoded data removed]",
      "text/plain": [
       "<Figure size 432x288 with 1 Axes>"
      ]
     },
     "metadata": {
      "needs_background": "light"
     },
     "output_type": "display_data"
    }
   ],
   "source": [
    "sns.kdeplot(data.iloc[:,9], shade=True)\n",
    "sns.kdeplot(data.iloc[:,10], shade=True)"
   ]
  },
  {
   "cell_type": "markdown",
   "id": "dfb2c33c",
   "metadata": {},
   "source": [
    "### 1.7: 该数据有部分远超2个标准差，是否会对训练造成严重影响"
   ]
  },
  {
   "cell_type": "code",
   "execution_count": 112,
   "id": "7b50cd37",
   "metadata": {},
   "outputs": [
    {
     "data": {
      "text/plain": [
       "<AxesSubplot:xlabel='vv/[(v+)-(v-)]', ylabel='Density'>"
      ]
     },
     "execution_count": 112,
     "metadata": {},
     "output_type": "execute_result"
    },
    {
     "data": {
      "image/png": "[encoded data removed]",
      "text/plain": [
       "<Figure size 432x288 with 1 Axes>"
      ]
     },
     "metadata": {
      "needs_background": "light"
     },
     "output_type": "display_data"
    }
   ],
   "source": [
    "sns.kdeplot(data.iloc[:,11], shade=True)"
   ]
  },
  {
   "cell_type": "markdown",
   "id": "9a95c52b",
   "metadata": {},
   "source": [
    "### 1.8: Polarity"
   ]
  },
  {
   "cell_type": "code",
   "execution_count": 113,
   "id": "e9b9777d",
   "metadata": {},
   "outputs": [
    {
     "data": {
      "text/plain": [
       "<AxesSubplot:xlabel='polarity', ylabel='Density'>"
      ]
     },
     "execution_count": 113,
     "metadata": {},
     "output_type": "execute_result"
    },
    {
     "data": {
      "image/png": "[encoded data removed]",
      "text/plain": [
       "<Figure size 432x288 with 1 Axes>"
      ]
     },
     "metadata": {
      "needs_background": "light"
     },
     "output_type": "display_data"
    }
   ],
   "source": [
    "sns.kdeplot(data.iloc[:,12], shade=True)"
   ]
  },
  {
   "cell_type": "markdown",
   "id": "d1563e7e",
   "metadata": {},
   "source": [
    "# 2. Train + Validate, 获得 RMSE"
   ]
  },
  {
   "cell_type": "markdown",
   "id": "0f05fc22",
   "metadata": {},
   "source": [
    "## 各个模型的 RMSE"
   ]
  },
  {
   "cell_type": "markdown",
   "id": "51c17fd7",
   "metadata": {},
   "source": [
    "### 1. Linear Regression"
   ]
  },
  {
   "cell_type": "code",
   "execution_count": 157,
   "id": "97898c19",
   "metadata": {},
   "outputs": [
    {
     "data": {
      "text/plain": [
       "0.06867884423101943"
      ]
     },
     "execution_count": 157,
     "metadata": {},
     "output_type": "execute_result"
    }
   ],
   "source": [
    "linear()"
   ]
  },
  {
   "cell_type": "markdown",
   "id": "284195f5",
   "metadata": {},
   "source": [
    "### 2. Ridge "
   ]
  },
  {
   "cell_type": "code",
   "execution_count": 186,
   "id": "9b67b3ef",
   "metadata": {},
   "outputs": [
    {
     "data": {
      "text/plain": [
       "0.07197745931527354"
      ]
     },
     "execution_count": 186,
     "metadata": {},
     "output_type": "execute_result"
    }
   ],
   "source": [
    "ridge()"
   ]
  },
  {
   "cell_type": "markdown",
   "id": "e4a67149",
   "metadata": {},
   "source": [
    "### 3. Support Vector Regression"
   ]
  },
  {
   "cell_type": "code",
   "execution_count": 122,
   "id": "bafa8908",
   "metadata": {},
   "outputs": [
    {
     "data": {
      "text/plain": [
       "0.09550957230407434"
      ]
     },
     "execution_count": 122,
     "metadata": {},
     "output_type": "execute_result"
    }
   ],
   "source": [
    "run('SVR')"
   ]
  },
  {
   "cell_type": "markdown",
   "id": "47bb9042",
   "metadata": {},
   "source": [
    "### 4. Decision Tree"
   ]
  },
  {
   "cell_type": "code",
   "execution_count": 165,
   "id": "e7afd477",
   "metadata": {},
   "outputs": [
    {
     "name": "stdout",
     "output_type": "stream",
     "text": [
      "['friedman_mse', 'best', None]\n"
     ]
    },
    {
     "data": {
      "text/plain": [
       "0.04082936545338918"
      ]
     },
     "execution_count": 165,
     "metadata": {},
     "output_type": "execute_result"
    }
   ],
   "source": [
    "decision_tree()"
   ]
  },
  {
   "cell_type": "markdown",
   "id": "de0b1f58",
   "metadata": {},
   "source": [
    "### 5. Polynomial Regression"
   ]
  },
  {
   "cell_type": "code",
   "execution_count": 178,
   "id": "472dc567",
   "metadata": {},
   "outputs": [
    {
     "name": "stdout",
     "output_type": "stream",
     "text": [
      "[2, True, True]\n"
     ]
    },
    {
     "data": {
      "text/plain": [
       "0.05166094443735068"
      ]
     },
     "execution_count": 178,
     "metadata": {},
     "output_type": "execute_result"
    }
   ],
   "source": [
    "poly()"
   ]
  },
  {
   "cell_type": "markdown",
   "id": "a0f159c2",
   "metadata": {},
   "source": [
    "### MLP"
   ]
  },
  {
   "cell_type": "code",
   "execution_count": 134,
   "id": "17db58e5",
   "metadata": {},
   "outputs": [
    {
     "name": "stdout",
     "output_type": "stream",
     "text": [
      "Epoch 1/10\n",
      "162/162 [==============================] - 1s 4ms/step - loss: 243818020864.0000 - val_loss: 6814608.0000\n",
      "Epoch 2/10\n",
      "162/162 [==============================] - 1s 3ms/step - loss: 5752548.5000 - val_loss: 5944196.5000\n",
      "Epoch 3/10\n",
      "162/162 [==============================] - 0s 3ms/step - loss: 5604373.0000 - val_loss: 5377560.5000\n",
      "Epoch 4/10\n",
      "162/162 [==============================] - 0s 3ms/step - loss: 5574810.0000 - val_loss: 6335008.0000\n",
      "Epoch 5/10\n",
      "162/162 [==============================] - 0s 3ms/step - loss: 5659232.0000 - val_loss: 5629166.0000\n",
      "Epoch 6/10\n",
      "162/162 [==============================] - 0s 3ms/step - loss: 5684673.5000 - val_loss: 10392585.0000\n",
      "Epoch 7/10\n",
      "162/162 [==============================] - 1s 3ms/step - loss: 6254711.5000 - val_loss: 5292887.0000\n",
      "Epoch 8/10\n",
      "162/162 [==============================] - 0s 3ms/step - loss: 5873645.5000 - val_loss: 6051149.0000\n",
      "Epoch 9/10\n",
      "162/162 [==============================] - 0s 3ms/step - loss: 5914778.0000 - val_loss: 6101416.0000\n",
      "Epoch 10/10\n",
      "162/162 [==============================] - 0s 3ms/step - loss: 6533789.5000 - val_loss: 5554598.0000\n",
      "46/46 [==============================] - 0s 1ms/step\n",
      "Epoch 1/10\n",
      "162/162 [==============================] - 1s 4ms/step - loss: 20282017792.0000 - val_loss: 1148473.7500\n",
      "Epoch 2/10\n",
      "162/162 [==============================] - 0s 3ms/step - loss: 1318364.3750 - val_loss: 6616713.0000\n",
      "Epoch 3/10\n",
      "162/162 [==============================] - 0s 3ms/step - loss: 2075490.6250 - val_loss: 1872359.7500\n",
      "Epoch 4/10\n",
      "162/162 [==============================] - 0s 3ms/step - loss: 1691223.7500 - val_loss: 7830531.5000\n",
      "Epoch 5/10\n",
      "162/162 [==============================] - 1s 3ms/step - loss: 1964330.1250 - val_loss: 1225876.0000\n",
      "Epoch 6/10\n",
      "162/162 [==============================] - 0s 3ms/step - loss: 1779552.3750 - val_loss: 1062453.5000\n",
      "Epoch 7/10\n",
      "162/162 [==============================] - 0s 3ms/step - loss: 1699908.0000 - val_loss: 10641623.0000\n",
      "Epoch 8/10\n",
      "162/162 [==============================] - 0s 3ms/step - loss: 18536410.0000 - val_loss: 41408048.0000\n",
      "Epoch 9/10\n",
      "162/162 [==============================] - 0s 3ms/step - loss: 53024252.0000 - val_loss: 3739637.5000\n",
      "Epoch 10/10\n",
      "162/162 [==============================] - 0s 3ms/step - loss: 67148912.0000 - val_loss: 20269772.0000\n",
      "46/46 [==============================] - 0s 1ms/step\n",
      "Epoch 1/10\n",
      "162/162 [==============================] - 1s 4ms/step - loss: 44562563072.0000 - val_loss: 5760769.0000\n",
      "Epoch 2/10\n",
      "162/162 [==============================] - 1s 3ms/step - loss: 6452181.5000 - val_loss: 16832664.0000\n",
      "Epoch 3/10\n",
      "162/162 [==============================] - 0s 3ms/step - loss: 7286657.0000 - val_loss: 8684190.0000\n",
      "Epoch 4/10\n",
      "162/162 [==============================] - 0s 3ms/step - loss: 7191135.5000 - val_loss: 6757344.0000\n",
      "Epoch 5/10\n",
      "162/162 [==============================] - 0s 3ms/step - loss: 6876384.5000 - val_loss: 12787306.0000\n",
      "Epoch 6/10\n",
      "162/162 [==============================] - 0s 3ms/step - loss: 7016222.5000 - val_loss: 6398620.5000\n",
      "Epoch 7/10\n",
      "162/162 [==============================] - 0s 3ms/step - loss: 7184496.0000 - val_loss: 7826293.0000\n",
      "Epoch 8/10\n",
      "162/162 [==============================] - 1s 3ms/step - loss: 6912625.0000 - val_loss: 6530099.5000\n",
      "Epoch 9/10\n",
      "162/162 [==============================] - 0s 3ms/step - loss: 7268016.0000 - val_loss: 5315685.0000\n",
      "Epoch 10/10\n",
      "162/162 [==============================] - 0s 3ms/step - loss: 6775033.5000 - val_loss: 5909395.0000\n",
      "46/46 [==============================] - 0s 1ms/step\n",
      "Epoch 1/10\n",
      "162/162 [==============================] - 1s 3ms/step - loss: 1484940509184.0000 - val_loss: 1267014.5000\n",
      "Epoch 2/10\n",
      "162/162 [==============================] - 0s 3ms/step - loss: 702626.3750 - val_loss: 829404.1250\n",
      "Epoch 3/10\n",
      "162/162 [==============================] - 0s 3ms/step - loss: 626448.2500 - val_loss: 609920.8125\n",
      "Epoch 4/10\n",
      "162/162 [==============================] - 1s 3ms/step - loss: 674129.3125 - val_loss: 611719.6250\n",
      "Epoch 5/10\n",
      "162/162 [==============================] - 0s 3ms/step - loss: 671736.1250 - val_loss: 620371.2500\n",
      "Epoch 6/10\n",
      "162/162 [==============================] - 0s 3ms/step - loss: 649223.3750 - val_loss: 602643.0000\n",
      "Epoch 7/10\n",
      "162/162 [==============================] - 0s 3ms/step - loss: 665823.1875 - val_loss: 603046.3125\n",
      "Epoch 8/10\n",
      "162/162 [==============================] - 0s 3ms/step - loss: 673346.2500 - val_loss: 724572.5625\n",
      "Epoch 9/10\n",
      "162/162 [==============================] - 0s 3ms/step - loss: 663176.5000 - val_loss: 689226.1875\n",
      "Epoch 10/10\n",
      "162/162 [==============================] - 0s 3ms/step - loss: 690348.6875 - val_loss: 594651.5000\n",
      "46/46 [==============================] - 0s 1ms/step\n",
      "Epoch 1/10\n",
      "162/162 [==============================] - 1s 4ms/step - loss: 29892909056.0000 - val_loss: 4259679.0000\n",
      "Epoch 2/10\n",
      "162/162 [==============================] - 0s 3ms/step - loss: 5183690.0000 - val_loss: 4207740.5000\n",
      "Epoch 3/10\n",
      "162/162 [==============================] - 0s 3ms/step - loss: 4811307.0000 - val_loss: 4090375.7500\n",
      "Epoch 4/10\n",
      "162/162 [==============================] - 1s 3ms/step - loss: 5194172.5000 - val_loss: 6270999.5000\n",
      "Epoch 5/10\n",
      "162/162 [==============================] - 0s 3ms/step - loss: 5251956.0000 - val_loss: 4269642.0000\n",
      "Epoch 6/10\n",
      "162/162 [==============================] - 0s 3ms/step - loss: 4901241.0000 - val_loss: 4799993.5000\n",
      "Epoch 7/10\n",
      "162/162 [==============================] - 0s 3ms/step - loss: 6894533.0000 - val_loss: 14081872.0000\n",
      "Epoch 8/10\n",
      "162/162 [==============================] - 0s 3ms/step - loss: 7073204.0000 - val_loss: 6169520.5000\n",
      "Epoch 9/10\n",
      "162/162 [==============================] - 0s 3ms/step - loss: 7787545.0000 - val_loss: 17471224.0000\n",
      "Epoch 10/10\n",
      "162/162 [==============================] - 0s 3ms/step - loss: 11940406.0000 - val_loss: 46451500.0000\n",
      "46/46 [==============================] - 0s 1ms/step\n",
      "3419.8899049007923\n"
     ]
    }
   ],
   "source": [
    "print(run (\"MLP\"))"
   ]
  },
  {
   "cell_type": "markdown",
   "id": "2078cdff",
   "metadata": {},
   "source": [
    "# 3. 各模型的 implementation"
   ]
  },
  {
   "cell_type": "code",
   "execution_count": 156,
   "id": "aeaad691",
   "metadata": {},
   "outputs": [],
   "source": [
    "# 线性回归\n",
    "def linear():\n",
    "    total_error = 0\n",
    "    kf = KFold(n_splits=5)\n",
    "    \n",
    "    for train, test in kf.split(shuffled_data):\n",
    "        train_data = shuffled_data.loc[train]\n",
    "        validate_data = shuffled_data.loc[test]\n",
    "        y_train = train_data['polarity']\n",
    "        x_train = train_data.iloc[:, 1:12]\n",
    "        y_v = validate_data['polarity']\n",
    "        x_v = validate_data.iloc[:, 1:12]\n",
    "        y_v_numpy = y_v.to_numpy()\n",
    "        \n",
    "        \n",
    "        lr = LinearRegression()\n",
    "        lr.fit(x_train, y_train)\n",
    "        predicted = lr.predict(x_v)\n",
    "        \n",
    "        total_error = total_error + rmse(predicted, y_v_numpy)\n",
    "        pass\n",
    "    \n",
    "    return total_error/5"
   ]
  },
  {
   "cell_type": "code",
   "execution_count": 185,
   "id": "8108149c",
   "metadata": {},
   "outputs": [],
   "source": [
    "def ridge():\n",
    "    kf = KFold(n_splits=5)\n",
    "\n",
    "    total = 0\n",
    "\n",
    "    for train, test in kf.split(shuffled_data):\n",
    "        train_data = shuffled_data.loc[train]\n",
    "        validate_data = shuffled_data.loc[test]\n",
    "        y_train = train_data['polarity']\n",
    "        x_train = train_data.iloc[:, 1:12]\n",
    "        y_v = validate_data['polarity']\n",
    "        x_v = validate_data.iloc[:, 1:12]\n",
    "        y_v_numpy = y_v.to_numpy()\n",
    "\n",
    "        ridge = Ridge()\n",
    "        ridge.fit(x_train, y_train)\n",
    "        total = total + rmse(ridge.predict(x_v), y_v)\n",
    "        \n",
    "    return total/5"
   ]
  },
  {
   "cell_type": "code",
   "execution_count": 29,
   "id": "8188d4c6",
   "metadata": {},
   "outputs": [],
   "source": [
    "# SVR\n",
    "def svr(x_train, y_train, x_v, eps, c):\n",
    "    svr = LinearSVR(epsilon=eps, C=c, fit_intercept=True)\n",
    "    svr.fit(x_train, y_train)\n",
    "    svr_predicted = svr.predict(x_v)\n",
    "\n",
    "    return svr_predicted"
   ]
  },
  {
   "cell_type": "code",
   "execution_count": 164,
   "id": "65ca1d15",
   "metadata": {},
   "outputs": [],
   "source": [
    "# 决策树\n",
    "def decision_tree():    \n",
    "    \n",
    "    # grid search\n",
    "    least_rmse = 1000000000\n",
    "    \n",
    "    for cri in ['squared_error', 'friedman_mse', 'absolute_error']:\n",
    "        for sp in ['best', 'random']:\n",
    "            for max_feat in ['auto', 'sqrt', 'log2', None]:\n",
    "                \n",
    "                total = 0\n",
    "                # cross validation\n",
    "                for train, test in kf.split(shuffled_data):\n",
    "                    train_data = shuffled_data.loc[train]\n",
    "                    validate_data = shuffled_data.loc[test]\n",
    "                    y_train = train_data['polarity']\n",
    "                    x_train = train_data.iloc[:, 1:12]\n",
    "                    y_v = validate_data['polarity']\n",
    "                    x_v = validate_data.iloc[:, 1:12]\n",
    "                    y_v_numpy = y_v.to_numpy()\n",
    "                \n",
    "                    decision = DecisionTreeRegressor(criterion = cri, splitter=sp, max_features = max_feat)\n",
    "                    decision.fit(x_train, y_train)\n",
    "                    result = decision.predict(x_v)\n",
    "                    total = total + rmse(result, y_v)\n",
    "                    pass\n",
    "                \n",
    "                \n",
    "                if total/5 < least_rmse:\n",
    "                    least_rmse = total/5\n",
    "                    best_combination = [cri, sp, max_feat]\n",
    "       \n",
    "\n",
    "    print (best_combination)\n",
    "    return least_rmse"
   ]
  },
  {
   "cell_type": "code",
   "execution_count": 177,
   "id": "a531ad50",
   "metadata": {},
   "outputs": [],
   "source": [
    "def poly ():\n",
    "    least_rmse = 1000000000\n",
    "    \n",
    "    for d in [2,3,4]:\n",
    "        for interaction in [True, False]:\n",
    "            for bias in [True, False]:\n",
    "                total = 0\n",
    "                \n",
    "                # cross validation\n",
    "                for train, test in kf.split(shuffled_data):\n",
    "                    train_data = shuffled_data.loc[train]\n",
    "                    validate_data = shuffled_data.loc[test]\n",
    "                    y_train = train_data['polarity']\n",
    "                    x_train = train_data.iloc[:, 1:12]\n",
    "                    y_v = validate_data['polarity']\n",
    "                    x_v = validate_data.iloc[:, 1:12]\n",
    "                    y_v_numpy = y_v.to_numpy()\n",
    "                \n",
    "    \n",
    "                    lr = LinearRegression()\n",
    "                    quadratic = PolynomialFeatures(degree=d, interaction_only=interaction, include_bias=bias)\n",
    "                    X_train_quad = quadratic.fit_transform(x_train)\n",
    "                    lr.fit(X_train_quad, y_train)\n",
    "                    total = total + rmse(y_v, lr.predict(quadratic.fit_transform(x_v)))\n",
    "                    pass\n",
    "                \n",
    "                if total/5 < least_rmse:\n",
    "                    least_rmse = total/5\n",
    "                    best_combination = [d, interaction, bias]\n",
    "                    pass\n",
    "                    \n",
    "    print (best_combination)    \n",
    "    return least_rmse"
   ]
  },
  {
   "cell_type": "code",
   "execution_count": 61,
   "id": "96ebb3df",
   "metadata": {},
   "outputs": [],
   "source": [
    "def MLP():\n",
    "    \n",
    "    \n",
    "    size, features = x_train.shape\n",
    "    \n",
    "    inputs = tf.keras.Input(shape=(features, ))\n",
    "    hidden = tf.keras.layers.Dense(64, activation='relu')(inputs)\n",
    "    hidden = tf.keras.layers.Dense(64, activation='relu')(hidden)\n",
    "    outputs = tf.keras.layers.Dense(1, activation='linear')(hidden)\n",
    "\n",
    "    tf_model = tf.keras.Model(inputs, outputs)\n",
    "    tf_model.compile(\n",
    "        optimizer = 'adam',\n",
    "        loss = 'mse'\n",
    "    )\n",
    "\n",
    "    history = tf_model.fit(\n",
    "        x_train,\n",
    "        y_train,\n",
    "        validation_split=0.12,\n",
    "        batch_size=32,\n",
    "        epochs=10\n",
    "    )\n",
    "    result = tf_model.predict(x_v)\n",
    "    return result"
   ]
  },
  {
   "cell_type": "code",
   "execution_count": null,
   "id": "b8a82111",
   "metadata": {},
   "outputs": [],
   "source": []
  }
 ],
 "metadata": {
  "kernelspec": {
   "display_name": "Python 3 (ipykernel)",
   "language": "python",
   "name": "python3"
  },
  "language_info": {
   "codemirror_mode": {
    "name": "ipython",
    "version": 3
   },
   "file_extension": ".py",
   "mimetype": "text/x-python",
   "name": "python",
   "nbconvert_exporter": "python",
   "pygments_lexer": "ipython3",
   "version": "3.9.12"
  }
 },
 "nbformat": 4,
 "nbformat_minor": 5
}
